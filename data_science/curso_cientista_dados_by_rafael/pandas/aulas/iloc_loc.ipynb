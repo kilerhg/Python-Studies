{
 "metadata": {
  "language_info": {
   "codemirror_mode": {
    "name": "ipython",
    "version": 3
   },
   "file_extension": ".py",
   "mimetype": "text/x-python",
   "name": "python",
   "nbconvert_exporter": "python",
   "pygments_lexer": "ipython3",
   "version": "3.8.5"
  },
  "orig_nbformat": 4,
  "kernelspec": {
   "name": "python3",
   "display_name": "Python 3.8.5 64-bit ('venv-data': venv)"
  },
  "interpreter": {
   "hash": "7424cc81cd7a205e43d899567285d3363bdaaea64788e163c3a0b6fa13afdc8e"
  }
 },
 "nbformat": 4,
 "nbformat_minor": 2,
 "cells": [
  {
   "cell_type": "code",
   "execution_count": 8,
   "metadata": {},
   "outputs": [],
   "source": [
    "import pandas as pd\n",
    "import numpy as np\n",
    "\n",
    "path = \"Players.csv\"\n",
    "\n",
    "df = pd.read_csv(path)\n"
   ]
  },
  {
   "cell_type": "code",
   "execution_count": 10,
   "metadata": {},
   "outputs": [
    {
     "output_type": "execute_result",
     "data": {
      "text/plain": [
       "Index(['Unnamed: 0', 'Player', 'height', 'weight', 'collage', 'born',\n",
       "       'birth_city', 'birth_state'],\n",
       "      dtype='object')"
      ]
     },
     "metadata": {},
     "execution_count": 10
    }
   ],
   "source": [
    "df.columns"
   ]
  },
  {
   "cell_type": "code",
   "execution_count": 25,
   "metadata": {},
   "outputs": [
    {
     "output_type": "execute_result",
     "data": {
      "text/plain": [
       "          Player  height  weight\n",
       "1   Cliff Barker   188.0    83.0\n",
       "2  Leo Barnhorst   193.0    86.0\n",
       "3     Ed Bartels   196.0    88.0\n",
       "4    Ralph Beard   178.0    79.0"
      ],
      "text/html": "<div>\n<style scoped>\n    .dataframe tbody tr th:only-of-type {\n        vertical-align: middle;\n    }\n\n    .dataframe tbody tr th {\n        vertical-align: top;\n    }\n\n    .dataframe thead th {\n        text-align: right;\n    }\n</style>\n<table border=\"1\" class=\"dataframe\">\n  <thead>\n    <tr style=\"text-align: right;\">\n      <th></th>\n      <th>Player</th>\n      <th>height</th>\n      <th>weight</th>\n    </tr>\n  </thead>\n  <tbody>\n    <tr>\n      <th>1</th>\n      <td>Cliff Barker</td>\n      <td>188.0</td>\n      <td>83.0</td>\n    </tr>\n    <tr>\n      <th>2</th>\n      <td>Leo Barnhorst</td>\n      <td>193.0</td>\n      <td>86.0</td>\n    </tr>\n    <tr>\n      <th>3</th>\n      <td>Ed Bartels</td>\n      <td>196.0</td>\n      <td>88.0</td>\n    </tr>\n    <tr>\n      <th>4</th>\n      <td>Ralph Beard</td>\n      <td>178.0</td>\n      <td>79.0</td>\n    </tr>\n  </tbody>\n</table>\n</div>"
     },
     "metadata": {},
     "execution_count": 25
    }
   ],
   "source": [
    "\n",
    "df.loc[1:4,'Player':'weight']\n",
    "\n",
    "\n",
    "\n",
    "\n"
   ]
  },
  {
   "cell_type": "code",
   "execution_count": 36,
   "metadata": {},
   "outputs": [
    {
     "output_type": "execute_result",
     "data": {
      "text/plain": [
       "'\\nDiferença entre loc e iloc\\n\\nloc[]   : Indexado literalmente (palavras)\\niloc[]  : Indexado Numericamente (igual listas) \\n'"
      ]
     },
     "metadata": {},
     "execution_count": 36
    }
   ],
   "source": [
    "\r\n",
    "\r\n",
    "\r\n",
    "\"\"\"\r\n",
    "Diferença entre loc e iloc\r\n",
    "\r\n",
    "loc[]   : Indexado literalmente (palavras)\r\n",
    "iloc[]  : Indexado Numericamente (igual listas) \r\n",
    "\"\"\""
   ]
  },
  {
   "cell_type": "code",
   "execution_count": 39,
   "metadata": {},
   "outputs": [
    {
     "output_type": "execute_result",
     "data": {
      "text/plain": [
       "   height  weight                          collage    born birth_city\n",
       "0   180.0    77.0               Indiana University  1918.0        NaN\n",
       "1   188.0    83.0           University of Kentucky  1921.0   Yorktown\n",
       "2   193.0    86.0         University of Notre Dame  1924.0        NaN\n",
       "3   196.0    88.0  North Carolina State University  1925.0        NaN"
      ],
      "text/html": "<div>\n<style scoped>\n    .dataframe tbody tr th:only-of-type {\n        vertical-align: middle;\n    }\n\n    .dataframe tbody tr th {\n        vertical-align: top;\n    }\n\n    .dataframe thead th {\n        text-align: right;\n    }\n</style>\n<table border=\"1\" class=\"dataframe\">\n  <thead>\n    <tr style=\"text-align: right;\">\n      <th></th>\n      <th>height</th>\n      <th>weight</th>\n      <th>collage</th>\n      <th>born</th>\n      <th>birth_city</th>\n    </tr>\n  </thead>\n  <tbody>\n    <tr>\n      <th>0</th>\n      <td>180.0</td>\n      <td>77.0</td>\n      <td>Indiana University</td>\n      <td>1918.0</td>\n      <td>NaN</td>\n    </tr>\n    <tr>\n      <th>1</th>\n      <td>188.0</td>\n      <td>83.0</td>\n      <td>University of Kentucky</td>\n      <td>1921.0</td>\n      <td>Yorktown</td>\n    </tr>\n    <tr>\n      <th>2</th>\n      <td>193.0</td>\n      <td>86.0</td>\n      <td>University of Notre Dame</td>\n      <td>1924.0</td>\n      <td>NaN</td>\n    </tr>\n    <tr>\n      <th>3</th>\n      <td>196.0</td>\n      <td>88.0</td>\n      <td>North Carolina State University</td>\n      <td>1925.0</td>\n      <td>NaN</td>\n    </tr>\n  </tbody>\n</table>\n</div>"
     },
     "metadata": {},
     "execution_count": 39
    }
   ],
   "source": [
    "df.iloc[0:4,2:7]"
   ]
  },
  {
   "cell_type": "code",
   "execution_count": null,
   "metadata": {},
   "outputs": [],
   "source": []
  },
  {
   "cell_type": "code",
   "execution_count": null,
   "metadata": {},
   "outputs": [],
   "source": []
  },
  {
   "cell_type": "code",
   "execution_count": null,
   "metadata": {},
   "outputs": [],
   "source": []
  },
  {
   "cell_type": "code",
   "execution_count": null,
   "metadata": {},
   "outputs": [],
   "source": []
  }
 ]
}